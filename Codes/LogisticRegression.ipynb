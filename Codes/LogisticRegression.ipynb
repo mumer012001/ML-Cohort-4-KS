{
  "nbformat": 4,
  "nbformat_minor": 0,
  "metadata": {
    "colab": {
      "provenance": []
    },
    "kernelspec": {
      "name": "python3",
      "display_name": "Python 3"
    },
    "language_info": {
      "name": "python"
    }
  },
  "cells": [
    {
      "cell_type": "code",
      "source": [
        "import numpy as np\n",
        "from sklearn.model_selection import train_test_split\n",
        "from sklearn import datasets\n",
        "import matplotlib.pyplot as plt"
      ],
      "metadata": {
        "id": "dniIMBEDzuwT"
      },
      "execution_count": 3,
      "outputs": []
    },
    {
      "cell_type": "code",
      "source": [
        "def sigmoid(x):\n",
        "  return 1/(1+np.exp(-x))"
      ],
      "metadata": {
        "id": "7-WtOVhqzutP"
      },
      "execution_count": 9,
      "outputs": []
    },
    {
      "cell_type": "code",
      "execution_count": 10,
      "metadata": {
        "id": "TJq97pOVza98"
      },
      "outputs": [],
      "source": [
        "class LogisticRegression:\n",
        "\n",
        "        def __init__(self, lr=0.001, n_iters=500):\n",
        "                self.lr = lr\n",
        "                self.n_iters = n_iters\n",
        "                self.weights = None\n",
        "                self.bias = None\n",
        "        def fit(self, X, y):\n",
        "                n_samples, n_features = X.shape\n",
        "                self.weights = np.zeros(n_features)\n",
        "                self.bias = 0\n",
        "\n",
        "                for _ in range(self.n_iters):\n",
        "                        # Prediction\n",
        "                        pred = self.bias + np.dot(X, self.weights)\n",
        "                        yhat = sigmoid(pred)\n",
        "                        # Derivatives\n",
        "                        dw = (1/n_samples) * np.dot(X.T, (yhat-y))\n",
        "                        db = (1/n_samples) * np.sum(yhat - y)\n",
        "                        # GD\n",
        "                        self.weights = self.weights - self.lr * dw\n",
        "                        self.bias = self.bias - self.lr * db\n",
        "        def predict(self, X):\n",
        "                pred = self.bias + np.dot(X, self.weights)\n",
        "                yhat = sigmoid(pred)\n",
        "                class_pred = [0 if y<=0.5 else 1 for y in yhat]\n",
        "                return class_pred"
      ]
    },
    {
      "cell_type": "code",
      "source": [
        "from sklearn import datasets"
      ],
      "metadata": {
        "id": "AaZQasv11_Xj"
      },
      "execution_count": 11,
      "outputs": []
    },
    {
      "cell_type": "code",
      "source": [
        "bc = datasets.load_breast_cancer()\n",
        "X, y = bc.data, bc.target"
      ],
      "metadata": {
        "id": "zQY84xgx2g7U"
      },
      "execution_count": 12,
      "outputs": []
    },
    {
      "cell_type": "code",
      "source": [
        "X_train, X_test, y_train, y_test = train_test_split(X, y, test_size = 0.20, random_state = 123)"
      ],
      "metadata": {
        "id": "gh4q6YRj22Fm"
      },
      "execution_count": 13,
      "outputs": []
    },
    {
      "cell_type": "code",
      "source": [
        "clf = LogisticRegression(lr=0.01, n_iters = 1000)\n",
        "clf.fit(X_train, y_train)"
      ],
      "metadata": {
        "colab": {
          "base_uri": "https://localhost:8080/"
        },
        "id": "4gcPEl7p3Hm6",
        "outputId": "7c33cdd4-94f3-4990-d8eb-e7e7b413a49c"
      },
      "execution_count": 18,
      "outputs": [
        {
          "output_type": "stream",
          "name": "stderr",
          "text": [
            "<ipython-input-9-bb43d9876711>:2: RuntimeWarning: overflow encountered in exp\n",
            "  return 1/(1+np.exp(-x))\n"
          ]
        }
      ]
    },
    {
      "cell_type": "code",
      "source": [
        "y_pred = clf.predict(X_test)"
      ],
      "metadata": {
        "colab": {
          "base_uri": "https://localhost:8080/"
        },
        "id": "j55fgfgk3r7j",
        "outputId": "2bee5b4d-9bd1-4479-92a7-1cf582690521"
      },
      "execution_count": 19,
      "outputs": [
        {
          "output_type": "stream",
          "name": "stderr",
          "text": [
            "<ipython-input-9-bb43d9876711>:2: RuntimeWarning: overflow encountered in exp\n",
            "  return 1/(1+np.exp(-x))\n"
          ]
        }
      ]
    },
    {
      "cell_type": "code",
      "source": [
        "def accuracy(y_pred, y_test):\n",
        "  return np.sum(y_pred == y_test)/len(y_test)"
      ],
      "metadata": {
        "id": "kBUKvjN24EmY"
      },
      "execution_count": 20,
      "outputs": []
    },
    {
      "cell_type": "code",
      "source": [
        "acc = accuracy(y_pred, y_test)\n",
        "print(acc)"
      ],
      "metadata": {
        "colab": {
          "base_uri": "https://localhost:8080/"
        },
        "id": "kJ9CIx914V8R",
        "outputId": "8566811b-e9f2-4eb4-9f19-9eb63e8fb6f1"
      },
      "execution_count": 21,
      "outputs": [
        {
          "output_type": "stream",
          "name": "stdout",
          "text": [
            "0.9298245614035088\n"
          ]
        }
      ]
    },
    {
      "cell_type": "code",
      "source": [],
      "metadata": {
        "id": "QxczO4d54bZU"
      },
      "execution_count": null,
      "outputs": []
    }
  ]
}